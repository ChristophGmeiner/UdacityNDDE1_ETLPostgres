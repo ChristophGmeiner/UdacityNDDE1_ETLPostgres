{
 "cells": [
  {
   "cell_type": "code",
   "execution_count": 1,
   "metadata": {
    "editable": true
   },
   "outputs": [],
   "source": [
    "import os\n",
    "import glob\n",
    "import psycopg2\n",
    "import pandas as pd\n",
    "from sql_queries import *\n",
    "import json"
   ]
  },
  {
   "cell_type": "code",
   "execution_count": 26,
   "metadata": {
    "editable": true
   },
   "outputs": [],
   "source": [
    "#getting all files in a set\n",
    "songfilepath = \"data/song_data/\"\n",
    "songfileSet = set() \n",
    "\n",
    "for root, dirs, files in os.walk(songfilepath):\n",
    "    for fileName in files:\n",
    "        fileSet.add( os.path.join( root[len(myFolder):], fileName ))\n",
    "\n",
    "songfile_list = list(fileSet)\n",
    "songfile_list = sorted([x for x in songfile_list if x.find(\"ipynb\") == -1])"
   ]
  },
  {
   "cell_type": "code",
   "execution_count": 27,
   "metadata": {
    "editable": true
   },
   "outputs": [],
   "source": [
    "s_list = list()\n",
    "for file in file_list:\n",
    "    s = pd.read_json(songfilepath + file, typ=\"series\")\n",
    "    s_list.append(pd.DataFrame(s))"
   ]
  },
  {
   "cell_type": "code",
   "execution_count": 28,
   "metadata": {
    "editable": true
   },
   "outputs": [],
   "source": [
    "songsdf = pd.concat(s_list, axis=1).transpose()\n",
    "songsdf.set_index(\"song_id\", inplace=True, verify_integrity=True)"
   ]
  },
  {
   "cell_type": "code",
   "execution_count": null,
   "metadata": {
    "editable": true
   },
   "outputs": [],
   "source": [
    "def process_song_file(cur, filepath):\n",
    "    # open song file\n",
    "    df =  \n",
    "\n",
    "    # insert song record\n",
    "    song_data = \n",
    "    cur.execute(song_table_insert, song_data)\n",
    "    \n",
    "    # insert artist record\n",
    "    artist_data = \n",
    "    cur.execute(artist_table_insert, artist_data)"
   ]
  }
 ],
 "metadata": {
  "kernelspec": {
   "display_name": "Python 3",
   "language": "python",
   "name": "python3"
  },
  "language_info": {
   "codemirror_mode": {
    "name": "ipython",
    "version": 3
   },
   "file_extension": ".py",
   "mimetype": "text/x-python",
   "name": "python",
   "nbconvert_exporter": "python",
   "pygments_lexer": "ipython3",
   "version": "3.6.3"
  }
 },
 "nbformat": 4,
 "nbformat_minor": 4
}
