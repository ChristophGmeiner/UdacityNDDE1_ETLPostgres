{
 "cells": [
  {
   "cell_type": "code",
   "execution_count": 1,
   "metadata": {
    "editable": true
   },
   "outputs": [],
   "source": [
    "import os\n",
    "import glob\n",
    "import psycopg2\n",
    "import pandas as pd\n",
    "from sql_queries import *\n",
    "import json"
   ]
  },
  {
   "cell_type": "code",
   "execution_count": 2,
   "metadata": {
    "editable": true
   },
   "outputs": [],
   "source": [
    "filepath = \"data/song_data/A/A/A/\"\n",
    "testfiles = os.listdir(filepath)\n",
    "#testfile = filepath + testfiles[0]\n",
    "#print(testfile)"
   ]
  },
  {
   "cell_type": "code",
   "execution_count": 3,
   "metadata": {
    "editable": true
   },
   "outputs": [
    {
     "name": "stdout",
     "output_type": "stream",
     "text": [
      "['TRAAAFD128F92F423A.json', 'TRAAARJ128F9320760.json', 'TRAAAEF128F4273421.json', 'TRAAABD128F429CF47.json', 'TRAAAVO128F93133D4.json', 'TRAAAMO128F1481E7F.json', 'TRAAAVG12903CFA543.json', 'TRAAAMQ128F1460CD3.json', 'TRAAADZ128F9348C2E.json', 'TRAAAAW128F429D538.json', 'TRAAAPK128E0786D96.json']\n"
     ]
    }
   ],
   "source": [
    "testfiles = [x for x in testfiles if x.find(\"json\") > -1]\n",
    "print(testfiles)"
   ]
  },
  {
   "cell_type": "code",
   "execution_count": 4,
   "metadata": {
    "editable": true
   },
   "outputs": [],
   "source": [
    "s_list = list()\n",
    "for testfile in testfiles:\n",
    "    s = pd.read_json(filepath + testfile, typ=\"series\")\n",
    "    s_list.append(pd.DataFrame(s))"
   ]
  },
  {
   "cell_type": "code",
   "execution_count": 5,
   "metadata": {
    "editable": true
   },
   "outputs": [],
   "source": [
    "testdf = pd.concat(s_list, axis=1).transpose()\n",
    "testdf.set_index(\"song_id\", inplace=True, verify_integrity=True)"
   ]
  },
  {
   "cell_type": "code",
   "execution_count": 24,
   "metadata": {
    "editable": true
   },
   "outputs": [],
   "source": [
    "#getting all files in a set\n",
    "myFolder = \"data/song_data/\"\n",
    "fileSet = set() \n",
    "\n",
    "for root, dirs, files in os.walk(myFolder):\n",
    "    for fileName in files:\n",
    "        fileSet.add( os.path.join( root[len(myFolder):], fileName ))\n",
    "\n",
    "file_list = list(fileSet)\n",
    "file_list = sorted([x for x in file_list if x.find(\"ipynb\") == -1])"
   ]
  },
  {
   "cell_type": "code",
   "execution_count": null,
   "metadata": {
    "editable": true
   },
   "outputs": [],
   "source": [
    "def process_song_file(cur, filepath):\n",
    "    # open song file\n",
    "    df =  \n",
    "\n",
    "    # insert song record\n",
    "    song_data = \n",
    "    cur.execute(song_table_insert, song_data)\n",
    "    \n",
    "    # insert artist record\n",
    "    artist_data = \n",
    "    cur.execute(artist_table_insert, artist_data)"
   ]
  }
 ],
 "metadata": {
  "kernelspec": {
   "display_name": "Python 3",
   "language": "python",
   "name": "python3"
  },
  "language_info": {
   "codemirror_mode": {
    "name": "ipython",
    "version": 3
   },
   "file_extension": ".py",
   "mimetype": "text/x-python",
   "name": "python",
   "nbconvert_exporter": "python",
   "pygments_lexer": "ipython3",
   "version": "3.6.3"
  }
 },
 "nbformat": 4,
 "nbformat_minor": 4
}
