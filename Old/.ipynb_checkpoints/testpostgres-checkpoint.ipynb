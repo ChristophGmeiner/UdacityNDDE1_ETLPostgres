{
 "cells": [
  {
   "cell_type": "code",
   "execution_count": 6,
   "metadata": {
    "editable": true
   },
   "outputs": [],
   "source": [
    "import psycopg2\n",
    "conn = psycopg2.connect(\"host=127.0.0.1 dbname=sparkifydb user=student password=student\")\n",
    "cur = conn.cursor()"
   ]
  },
  {
   "cell_type": "code",
   "execution_count": 7,
   "metadata": {
    "editable": true
   },
   "outputs": [],
   "source": [
    "#try: \n",
    "#    cur.execute(\"select extract(dow from date '2019-11-15');\")\n",
    "#except psycopg2.Error as e:\n",
    "#    print(e)\n",
    "#print(cur.fetchall())"
   ]
  },
  {
   "cell_type": "code",
   "execution_count": 8,
   "metadata": {
    "editable": true
   },
   "outputs": [
    {
     "name": "stdout",
     "output_type": "stream",
     "text": [
      "[('songplays',), ('users',), ('songs',), ('artists',), ('time',)]\n"
     ]
    }
   ],
   "source": [
    "cur.execute(\"SELECT table_name FROM information_schema.tables \\\n",
    "       WHERE table_schema = 'public'\")\n",
    "print(cur.fetchall())"
   ]
  },
  {
   "cell_type": "code",
   "execution_count": 9,
   "metadata": {
    "editable": true
   },
   "outputs": [
    {
     "name": "stdout",
     "output_type": "stream",
     "text": [
      "(0,)\n"
     ]
    }
   ],
   "source": [
    "cur.execute(\"select count(*) from users\")\n",
    "print(cur.fetchone())"
   ]
  },
  {
   "cell_type": "code",
   "execution_count": 10,
   "metadata": {
    "editable": true
   },
   "outputs": [],
   "source": [
    "cur.close()\n",
    "conn.close()"
   ]
  },
  {
   "cell_type": "code",
   "execution_count": 20,
   "metadata": {
    "editable": true
   },
   "outputs": [
    {
     "name": "stdout",
     "output_type": "stream",
     "text": [
      "[]\n"
     ]
    }
   ],
   "source": [
    "cur.execute(\"Select * from testtable limit 0\")\n",
    "print(cur.fetchall())"
   ]
  },
  {
   "cell_type": "code",
   "execution_count": 21,
   "metadata": {
    "editable": true
   },
   "outputs": [],
   "source": [
    "colnames = [desc[0] for desc in cur.description]"
   ]
  },
  {
   "cell_type": "code",
   "execution_count": 22,
   "metadata": {
    "editable": true
   },
   "outputs": [
    {
     "name": "stdout",
     "output_type": "stream",
     "text": [
      "(Column(name='songplay_id', type_code=23, display_size=None, internal_size=4, precision=None, scale=None, null_ok=None), Column(name='start_time', type_code=1083, display_size=None, internal_size=8, precision=None, scale=None, null_ok=None), Column(name='user_id', type_code=23, display_size=None, internal_size=4, precision=None, scale=None, null_ok=None), Column(name='level', type_code=1043, display_size=None, internal_size=-1, precision=None, scale=None, null_ok=None), Column(name='song_id', type_code=1043, display_size=None, internal_size=-1, precision=None, scale=None, null_ok=None), Column(name='artist_id', type_code=1043, display_size=None, internal_size=-1, precision=None, scale=None, null_ok=None), Column(name='session_id', type_code=23, display_size=None, internal_size=4, precision=None, scale=None, null_ok=None), Column(name='location', type_code=1043, display_size=None, internal_size=-1, precision=None, scale=None, null_ok=None), Column(name='user_agent', type_code=1043, display_size=None, internal_size=-1, precision=None, scale=None, null_ok=None))\n"
     ]
    }
   ],
   "source": [
    "print(cur.description)"
   ]
  },
  {
   "cell_type": "code",
   "execution_count": null,
   "metadata": {
    "editable": true
   },
   "outputs": [],
   "source": []
  }
 ],
 "metadata": {
  "kernelspec": {
   "display_name": "Python 3",
   "language": "python",
   "name": "python3"
  },
  "language_info": {
   "codemirror_mode": {
    "name": "ipython",
    "version": 3
   },
   "file_extension": ".py",
   "mimetype": "text/x-python",
   "name": "python",
   "nbconvert_exporter": "python",
   "pygments_lexer": "ipython3",
   "version": "3.6.3"
  }
 },
 "nbformat": 4,
 "nbformat_minor": 4
}
