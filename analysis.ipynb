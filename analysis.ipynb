{
 "cells": [
  {
   "cell_type": "markdown",
   "metadata": {
    "editable": true
   },
   "source": [
    "<h1>Base Analysis of sparkifydb</h1>\n",
    "<p>This notebook shows some basic analysis of the newly entered data in sparkifydb. For more information about sparkifydb, please refer to the repository readme.</p>\n",
    "<p>Please consider, that the data is only simualted (not-real) and only partially available (only a subset of songs and users, only month 2018-11). This of course tightens the potential analysis spectrum and its significance, especially as we only have detailed Song and Artist IDs for one record. So no analysis concerning songs or artists is possible.</p>\n",
    "\n",
    "<p>First the libraries are imported, the connection is created and the fact (songplays) table is imported as a pandas dataframe joined with the time table</p>"
   ]
  },
  {
   "cell_type": "code",
   "execution_count": 82,
   "metadata": {
    "editable": true
   },
   "outputs": [],
   "source": [
    "#import libraries\n",
    "import psycopg2\n",
    "import pandas as pd\n",
    "import matplotlib.pyplot as plt\n",
    "import seaborn as sns"
   ]
  },
  {
   "cell_type": "code",
   "execution_count": 83,
   "metadata": {
    "editable": true
   },
   "outputs": [],
   "source": [
    "#create connection\n",
    "conn = psycopg2.connect(\"host=127.0.0.1 dbname=sparkifydb user=student password=student\")\n",
    "cur = conn.cursor()"
   ]
  },
  {
   "cell_type": "code",
   "execution_count": 84,
   "metadata": {
    "editable": true
   },
   "outputs": [],
   "source": [
    "sql = \"SELECT * FROM songplays s LEFT JOIN time t \\\n",
    "       ON t.start_time = s.start_time\""
   ]
  },
  {
   "cell_type": "code",
   "execution_count": 85,
   "metadata": {
    "editable": true
   },
   "outputs": [],
   "source": [
    "fact_df = pd.read_sql(sql, conn)\n",
    "#add state column\n",
    "fact_df[\"state\"] = [x[-2:] for x in list(fact_df.location.values)]\n",
    "fact_df.set_index([\"songplay_id\"], inplace=True, verify_integrity=True)"
   ]
  },
  {
   "cell_type": "code",
   "execution_count": 86,
   "metadata": {
    "editable": true
   },
   "outputs": [
    {
     "data": {
      "text/html": [
       "<div>\n",
       "<style scoped>\n",
       "    .dataframe tbody tr th:only-of-type {\n",
       "        vertical-align: middle;\n",
       "    }\n",
       "\n",
       "    .dataframe tbody tr th {\n",
       "        vertical-align: top;\n",
       "    }\n",
       "\n",
       "    .dataframe thead th {\n",
       "        text-align: right;\n",
       "    }\n",
       "</style>\n",
       "<table border=\"1\" class=\"dataframe\">\n",
       "  <thead>\n",
       "    <tr style=\"text-align: right;\">\n",
       "      <th></th>\n",
       "      <th>start_time</th>\n",
       "      <th>user_id</th>\n",
       "      <th>level</th>\n",
       "      <th>song_id</th>\n",
       "      <th>artist_id</th>\n",
       "      <th>session_id</th>\n",
       "      <th>location</th>\n",
       "      <th>user_agent</th>\n",
       "      <th>start_time</th>\n",
       "      <th>hour</th>\n",
       "      <th>day</th>\n",
       "      <th>week</th>\n",
       "      <th>month</th>\n",
       "      <th>year</th>\n",
       "      <th>weekday</th>\n",
       "      <th>state</th>\n",
       "    </tr>\n",
       "    <tr>\n",
       "      <th>songplay_id</th>\n",
       "      <th></th>\n",
       "      <th></th>\n",
       "      <th></th>\n",
       "      <th></th>\n",
       "      <th></th>\n",
       "      <th></th>\n",
       "      <th></th>\n",
       "      <th></th>\n",
       "      <th></th>\n",
       "      <th></th>\n",
       "      <th></th>\n",
       "      <th></th>\n",
       "      <th></th>\n",
       "      <th></th>\n",
       "      <th></th>\n",
       "      <th></th>\n",
       "    </tr>\n",
       "  </thead>\n",
       "  <tbody>\n",
       "    <tr>\n",
       "      <th>1</th>\n",
       "      <td>2018-11-13 00:40:37.796</td>\n",
       "      <td>66</td>\n",
       "      <td>free</td>\n",
       "      <td>None</td>\n",
       "      <td>None</td>\n",
       "      <td>514</td>\n",
       "      <td>Harrisburg-Carlisle, PA</td>\n",
       "      <td>\"Mozilla/5.0 (Macintosh; Intel Mac OS X 10_9_4...</td>\n",
       "      <td>2018-11-13 00:40:37.796</td>\n",
       "      <td>0</td>\n",
       "      <td>13</td>\n",
       "      <td>46</td>\n",
       "      <td>11</td>\n",
       "      <td>2018</td>\n",
       "      <td>1</td>\n",
       "      <td>PA</td>\n",
       "    </tr>\n",
       "    <tr>\n",
       "      <th>2</th>\n",
       "      <td>2018-11-13 01:12:29.796</td>\n",
       "      <td>51</td>\n",
       "      <td>free</td>\n",
       "      <td>None</td>\n",
       "      <td>None</td>\n",
       "      <td>510</td>\n",
       "      <td>Houston-The Woodlands-Sugar Land, TX</td>\n",
       "      <td>\"Mozilla/5.0 (Windows NT 6.3; WOW64) AppleWebK...</td>\n",
       "      <td>2018-11-13 01:12:29.796</td>\n",
       "      <td>1</td>\n",
       "      <td>13</td>\n",
       "      <td>46</td>\n",
       "      <td>11</td>\n",
       "      <td>2018</td>\n",
       "      <td>1</td>\n",
       "      <td>TX</td>\n",
       "    </tr>\n",
       "    <tr>\n",
       "      <th>3</th>\n",
       "      <td>2018-11-13 03:19:02.796</td>\n",
       "      <td>9</td>\n",
       "      <td>free</td>\n",
       "      <td>None</td>\n",
       "      <td>None</td>\n",
       "      <td>379</td>\n",
       "      <td>Eureka-Arcata-Fortuna, CA</td>\n",
       "      <td>Mozilla/5.0 (Windows NT 6.1; WOW64; Trident/7....</td>\n",
       "      <td>2018-11-13 03:19:02.796</td>\n",
       "      <td>3</td>\n",
       "      <td>13</td>\n",
       "      <td>46</td>\n",
       "      <td>11</td>\n",
       "      <td>2018</td>\n",
       "      <td>1</td>\n",
       "      <td>CA</td>\n",
       "    </tr>\n",
       "  </tbody>\n",
       "</table>\n",
       "</div>"
      ],
      "text/plain": [
       "                         start_time  user_id level song_id artist_id  \\\n",
       "songplay_id                                                            \n",
       "1           2018-11-13 00:40:37.796       66  free    None      None   \n",
       "2           2018-11-13 01:12:29.796       51  free    None      None   \n",
       "3           2018-11-13 03:19:02.796        9  free    None      None   \n",
       "\n",
       "             session_id                              location  \\\n",
       "songplay_id                                                     \n",
       "1                   514               Harrisburg-Carlisle, PA   \n",
       "2                   510  Houston-The Woodlands-Sugar Land, TX   \n",
       "3                   379             Eureka-Arcata-Fortuna, CA   \n",
       "\n",
       "                                                    user_agent  \\\n",
       "songplay_id                                                      \n",
       "1            \"Mozilla/5.0 (Macintosh; Intel Mac OS X 10_9_4...   \n",
       "2            \"Mozilla/5.0 (Windows NT 6.3; WOW64) AppleWebK...   \n",
       "3            Mozilla/5.0 (Windows NT 6.1; WOW64; Trident/7....   \n",
       "\n",
       "                         start_time  hour  day  week  month  year  weekday  \\\n",
       "songplay_id                                                                  \n",
       "1           2018-11-13 00:40:37.796     0   13    46     11  2018        1   \n",
       "2           2018-11-13 01:12:29.796     1   13    46     11  2018        1   \n",
       "3           2018-11-13 03:19:02.796     3   13    46     11  2018        1   \n",
       "\n",
       "            state  \n",
       "songplay_id        \n",
       "1              PA  \n",
       "2              TX  \n",
       "3              CA  "
      ]
     },
     "execution_count": 86,
     "metadata": {},
     "output_type": "execute_result"
    }
   ],
   "source": [
    "fact_df.head(3)"
   ]
  },
  {
   "cell_type": "markdown",
   "metadata": {
    "editable": true
   },
   "source": [
    "<p>Now let's have a look at some basic analysis concerning some time features</p>\n",
    "<p>Apparently most users listen to their songs in the late afternoon hours. It makes sense, that we see the lowest numbers here in the late night and earyl morning hours.</p>"
   ]
  },
  {
   "cell_type": "code",
   "execution_count": 87,
   "metadata": {
    "editable": true
   },
   "outputs": [
    {
     "data": {
      "text/plain": [
       "Text(0.5,0,'Hour of the Day')"
      ]
     },
     "execution_count": 87,
     "metadata": {},
     "output_type": "execute_result"
    },
    {
     "data": {
      "image/png": "[encoded data removed]",
      "text/plain": [
       "<matplotlib.figure.Figure at 0x7f4935af5cf8>"
      ]
     },
     "metadata": {
      "needs_background": "light"
     },
     "output_type": "display_data"
    }
   ],
   "source": [
    "sns.countplot(x=fact_df.hour, color=\"blue\")\n",
    "plt.title(\"Songplays per Hour of the Day\")\n",
    "plt.xlabel(\"Hour of the Day\")"
   ]
  },
  {
   "cell_type": "markdown",
   "metadata": {
    "editable": true
   },
   "source": [
    "<p>There are obviously a lot less songplays on Fridaysand Saturdays</p>"
   ]
  },
  {
   "cell_type": "code",
   "execution_count": 88,
   "metadata": {
    "editable": true
   },
   "outputs": [
    {
     "data": {
      "text/plain": [
       "Text(0.5,1,'Songplays per Day of the Week')"
      ]
     },
     "execution_count": 88,
     "metadata": {},
     "output_type": "execute_result"
    },
    {
     "data": {
      "image/png": "[encoded data removed]",
      "text/plain": [
       "<matplotlib.figure.Figure at 0x7f4936644cf8>"
      ]
     },
     "metadata": {
      "needs_background": "light"
     },
     "output_type": "display_data"
    }
   ],
   "source": [
    "sns.countplot(x=fact_df.weekday, color=\"red\")\n",
    "plt.title(\"Songplays per Day of the Week\")"
   ]
  },
  {
   "cell_type": "markdown",
   "metadata": {
    "editable": true
   },
   "source": [
    "<p>Obviously Sparkify (at least in November 18) was over represneted in some states, e.g. California.</p>"
   ]
  },
  {
   "cell_type": "code",
   "execution_count": 89,
   "metadata": {
    "editable": true
   },
   "outputs": [
    {
     "data": {
      "text/plain": [
       "Text(0.5,1,'Songplays by State')"
      ]
     },
     "execution_count": 89,
     "metadata": {},
     "output_type": "execute_result"
    },
    {
     "data": {
      "image/png": "[encoded data removed]",
      "text/plain": [
       "<matplotlib.figure.Figure at 0x7f4935ad2ef0>"
      ]
     },
     "metadata": {
      "needs_background": "light"
     },
     "output_type": "display_data"
    }
   ],
   "source": [
    "plt.figure(figsize=(17, 10))\n",
    "sns.countplot(x=fact_df.state, color=\"darkgrey\")\n",
    "plt.title(\"Songplays by State\")"
   ]
  },
  {
   "cell_type": "code",
   "execution_count": 90,
   "metadata": {
    "editable": true
   },
   "outputs": [],
   "source": [
    "#close connecion\n",
    "conn.close()"
   ]
  }
 ],
 "metadata": {
  "kernelspec": {
   "display_name": "Python 3",
   "language": "python",
   "name": "python3"
  },
  "language_info": {
   "codemirror_mode": {
    "name": "ipython",
    "version": 3
   },
   "file_extension": ".py",
   "mimetype": "text/x-python",
   "name": "python",
   "nbconvert_exporter": "python",
   "pygments_lexer": "ipython3",
   "version": "3.6.3"
  }
 },
 "nbformat": 4,
 "nbformat_minor": 4
}
